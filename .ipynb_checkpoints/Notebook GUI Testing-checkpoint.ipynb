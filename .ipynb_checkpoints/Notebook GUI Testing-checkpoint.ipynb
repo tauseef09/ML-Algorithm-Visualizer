{
 "cells": [
  {
   "cell_type": "code",
   "execution_count": 7,
   "id": "80939aed",
   "metadata": {},
   "outputs": [],
   "source": [
    "import ipywidgets as widgets\n",
    "from IPython.display import display\n",
    "from IPython.display import clear_output"
   ]
  },
  {
   "cell_type": "markdown",
   "id": "83c9291c",
   "metadata": {},
   "source": [
    "# Declaring Widgets"
   ]
  },
  {
   "cell_type": "code",
   "execution_count": 79,
   "id": "84ac30d9",
   "metadata": {},
   "outputs": [],
   "source": [
    "algorithms = ['Linear Regression', 'Logistic Regression', 'Neural Network', 'Linear SVM', 'Non-linear SVM', 'KMeans',\n",
    "             'Naive Bayes', 'Decision Tree', 'PCA', 'None']\n",
    "\n",
    "algo_dropdown = widgets.Dropdown(\n",
    "            options=algorithms,\n",
    "            value='None',\n",
    "            description='Algorithm:',\n",
    "            disabled=False,\n",
    "        )\n",
    "\n",
    "activation_dropdown = widgets.Dropdown(\n",
    "            options=['Logistic', 'Tanh', 'ReLU'],\n",
    "            value='ReLU',\n",
    "            description='Activation:',\n",
    "            disabled=False,\n",
    "        )\n",
    "\n",
    "lr_slider = widgets.FloatSlider(\n",
    "            value=0.0001,\n",
    "            min=0.0001,\n",
    "            max=0.1,\n",
    "            step=0.0001,\n",
    "            description='alpha:',\n",
    "            disabled=False,\n",
    "            continuous_update=False,\n",
    "            orientation='horizontal',\n",
    "            readout=True,\n",
    "            readout_format='.4f',\n",
    "        )\n",
    "\n",
    "reg_strength_slider = widgets.FloatSlider(\n",
    "            value=0.0001,\n",
    "            min=0.0001,\n",
    "            max=0.1,\n",
    "            step=0.0001,\n",
    "            description='lambda:',\n",
    "            disabled=False,\n",
    "            continuous_update=False,\n",
    "            orientation='horizontal',\n",
    "            readout=True,\n",
    "            readout_format='.4f',\n",
    "        )\n",
    "\n",
    "regtype_dropdown = widgets.Dropdown(\n",
    "            options=['L1', 'L2', 'None'],\n",
    "            value='L2',\n",
    "            description='Reg:',\n",
    "            disabled=False,\n",
    "        )\n",
    "\n",
    "n_layers_dropdown = widgets.Dropdown(\n",
    "            options=[1, 2, 3],\n",
    "            value=2,\n",
    "            description='n_layers:',\n",
    "            disabled=False,\n",
    "        )\n",
    "\n",
    "def ith_layer_nodes(n_layers):\n",
    "    for i in range(n_layers):\n",
    "            display(widgets.Dropdown(\n",
    "            options=[2, 4, 6, 8],\n",
    "            value=2,\n",
    "            description=f'Layer {i+1} nodes:',\n",
    "            disabled=False,\n",
    "        ))"
   ]
  },
  {
   "cell_type": "code",
   "execution_count": 83,
   "id": "2e175c6a",
   "metadata": {},
   "outputs": [],
   "source": [
    "def set_hyperparams(algo='None'):\n",
    "    if algo == \"Logistic Regression\":\n",
    "        display(lr_slider)\n",
    "        display(regtype_dropdown)\n",
    "        display(reg_strength_slider)\n",
    "    elif algo == \"Neural Network\":\n",
    "        display(activation_dropdown)\n",
    "        display(lr_slider)\n",
    "        display(regtype_dropdown)\n",
    "        display(reg_strength_slider)\n",
    "        widgets.interact(ith_layer_nodes, n_layers=n_layers_dropdown);\n",
    "    else:\n",
    "        pass"
   ]
  },
  {
   "cell_type": "code",
   "execution_count": 84,
   "id": "486bd07f",
   "metadata": {},
   "outputs": [
    {
     "data": {
      "application/vnd.jupyter.widget-view+json": {
       "model_id": "a39c13c44d414723beeab892fbc6dc30",
       "version_major": 2,
       "version_minor": 0
      },
      "text/plain": [
       "interactive(children=(Dropdown(description='Algorithm:', index=9, options=('Linear Regression', 'Logistic Regr…"
      ]
     },
     "metadata": {},
     "output_type": "display_data"
    }
   ],
   "source": [
    "widgets.interact(set_hyperparams, algo=algo_dropdown);"
   ]
  },
  {
   "cell_type": "code",
   "execution_count": null,
   "id": "0f212a53",
   "metadata": {},
   "outputs": [],
   "source": []
  }
 ],
 "metadata": {
  "kernelspec": {
   "display_name": "Python 3 (ipykernel)",
   "language": "python",
   "name": "python3"
  },
  "language_info": {
   "codemirror_mode": {
    "name": "ipython",
    "version": 3
   },
   "file_extension": ".py",
   "mimetype": "text/x-python",
   "name": "python",
   "nbconvert_exporter": "python",
   "pygments_lexer": "ipython3",
   "version": "3.9.7"
  }
 },
 "nbformat": 4,
 "nbformat_minor": 5
}
