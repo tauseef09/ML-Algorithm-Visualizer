{
 "cells": [
  {
   "cell_type": "code",
   "execution_count": null,
   "id": "80939aed",
   "metadata": {},
   "outputs": [],
   "source": [
    "import ipywidgets as widgets\n",
    "from IPython.display import display, clear_output\n",
    "import functools\n",
    "from traitlets import traitlets\n",
    "\n",
    "%matplotlib inline\n",
    "from matplotlib import pyplot as plt\n",
    "from matplotlib.animation import FuncAnimation\n",
    "import seaborn as sns\n",
    "import numpy as np\n",
    "import pandas as pd\n",
    "from sklearn.metrics import mean_squared_error\n",
    "from sklearn.neural_network import MLPClassifier\n",
    "from sklearn.linear_model import LogisticRegression, SGDClassifier\n",
    "from sklearn.svm import LinearSVC, SVC\n",
    "from sklearn.cluster import KMeans\n",
    "from sklearn_extra.cluster import KMedoids\n",
    "from sklearn.naive_bayes import GaussianNB\n",
    "from sklearn.tree import DecisionTreeClassifier\n",
    "from sklearn.decomposition import PCA\n",
    "from sklearn import tree\n",
    "import plotly.express as px"
   ]
  },
  {
   "cell_type": "markdown",
   "id": "ac0bccfd",
   "metadata": {},
   "source": [
    "# Declaring Functions"
   ]
  },
  {
   "cell_type": "markdown",
   "id": "da5e34bb",
   "metadata": {},
   "source": [
    "## Model Inits"
   ]
  },
  {
   "cell_type": "code",
   "execution_count": null,
   "id": "b2e0c1c8",
   "metadata": {},
   "outputs": [],
   "source": [
    "def init_nn(activation='tanh', alpha=0.001, l1_size=8, l2_size=4, l3_size=0, l4_size=0, lr=0.001):\n",
    "    h_layer_sizes = (l1_size,)\n",
    "    \n",
    "    if l2_size != 0 and l3_size == 0 and l4_size == 0:\n",
    "        h_layer_sizes = (l1_size, l2_size)\n",
    "    elif l2_size != 0 and l3_size != 0 and l4_size == 0:\n",
    "        h_layer_sizes = (l1_size, l2_size, l3_size)\n",
    "    elif l2_size != 0 and l3_size != 0 and l4_size != 0:\n",
    "        h_layer_sizes = (l1_size, l2_size, l3_size, l4_size)\n",
    "            \n",
    "    clf = MLPClassifier(activation=activation, solver='adam', alpha=alpha, hidden_layer_sizes=h_layer_sizes,\n",
    "                    learning_rate=\"constant\", learning_rate_init=lr,\n",
    "                    random_state=42, max_iter=1, warm_start=True)\n",
    "    return clf"
   ]
  },
  {
   "cell_type": "markdown",
   "id": "eb80629c",
   "metadata": {},
   "source": [
    "## Dataset Inits"
   ]
  },
  {
   "cell_type": "code",
   "execution_count": null,
   "id": "ab73f5cc",
   "metadata": {},
   "outputs": [],
   "source": [
    "def init_nn_dataset(dataset=\"Circular\"):\n",
    "    if dataset == \"Circular\":\n",
    "        df = pd.read_csv(\"classification_circle.csv\")\n",
    "        df.loc[ df[\"y\"] == -1, \"y\"] = 0 \n",
    "    elif dataset == \"XOR\":\n",
    "        df = pd.read_csv(\"classification_nonlinear_xor.csv\")\n",
    "        df.loc[ df[\"y\"] == -1, \"y\"] = 0\n",
    "    \n",
    "    feature_cols = ['x1', 'x2']\n",
    "    X = df[feature_cols].to_numpy()\n",
    "    y = df['y'].to_numpy()\n",
    "    \n",
    "    return X, y, df"
   ]
  },
  {
   "cell_type": "markdown",
   "id": "d9b36057",
   "metadata": {},
   "source": [
    "## Animations"
   ]
  },
  {
   "cell_type": "code",
   "execution_count": null,
   "id": "9c632c47",
   "metadata": {},
   "outputs": [],
   "source": [
    "def animate_nn(i, *fargs):\n",
    "    clf, X, y, df, xx, yy = fargs\n",
    "    xmin, xmax = df[\"x1\"].min(), df[\"x1\"].max() \n",
    "    ymin, ymax = df[\"x2\"].min(), df[\"x2\"].max()\n",
    "    clf.fit(X, y)\n",
    "    Z = clf.predict(np.c_[xx.ravel(), yy.ravel()])\n",
    "    Z = Z.reshape(xx.shape)\n",
    "    \n",
    "    plt.cla()\n",
    "    plt.imshow(\n",
    "    Z,\n",
    "    interpolation=\"nearest\",\n",
    "    extent=(xx.min(), xx.max(), yy.min(), yy.max()),\n",
    "    aspect=\"auto\",\n",
    "    origin=\"lower\",\n",
    "    alpha = 0.7,\n",
    "    cmap=plt.cm.Paired\n",
    "    )\n",
    "    contours = plt.contour(xx, yy, Z, linewidths=2, colors=\"white\")\n",
    "    sns.scatterplot(x=\"x1\", y=\"x2\", hue=\"y\", data=df)\n",
    "    plt.xlim(xmin, xmax)\n",
    "    plt.ylim(ymin, ymax)\n",
    "    plt.legend(loc='lower right')"
   ]
  },
  {
   "cell_type": "markdown",
   "id": "db4d0ab6",
   "metadata": {},
   "source": [
    "## Plays"
   ]
  },
  {
   "cell_type": "code",
   "execution_count": null,
   "id": "1556d22c",
   "metadata": {},
   "outputs": [],
   "source": [
    "def play_nn(btn_state, activation='tanh', alpha=0.001, l1_size=8, l2_size=4, l3_size=0,\n",
    "            l4_size=0, lr=0.001, dataset='Circular'):\n",
    "    \n",
    "    btn_state.disabled = True\n",
    "    \n",
    "    anim_running = True\n",
    "    def onClick(event): # start/stop animation when clicked on figure \n",
    "        nonlocal anim_running\n",
    "        if anim_running:\n",
    "            anim.event_source.stop()\n",
    "            anim_running = False\n",
    "        else:\n",
    "            anim.event_source.start()\n",
    "            anim_running = True\n",
    "    \n",
    "    plt.clf() # clear figure  \n",
    "    clf = init_nn(activation=activation, alpha=alpha, l1_size=l1_size, l2_size=l2_size, l3_size=l3_size,\n",
    "                  l4_size=l4_size, lr=lr)    \n",
    "    X, y, df = init_nn_dataset(dataset=dataset)\n",
    "    \n",
    "    xmin, xmax = df[\"x1\"].min(), df[\"x1\"].max() \n",
    "    ymin, ymax = df[\"x2\"].min(), df[\"x2\"].max()\n",
    "    xx, yy = np.meshgrid(np.linspace(xmin, xmax, 500), np.linspace(xmin, xmax, 500))\n",
    "    plt.gcf().canvas.mpl_connect('button_press_event', onClick) # connects the figure with the onClick func\n",
    "    anim = FuncAnimation(plt.gcf(), func=animate_nn, fargs=(clf, X, y, df, xx, yy), interval=100,\n",
    "                         frames=200, blit=True)\n",
    "    btn_state.value = anim\n",
    "    return anim"
   ]
  },
  {
   "cell_type": "markdown",
   "id": "24b677b0",
   "metadata": {},
   "source": [
    "## Tests"
   ]
  },
  {
   "cell_type": "code",
   "execution_count": null,
   "id": "355ffff5",
   "metadata": {},
   "outputs": [],
   "source": [
    "def test(btn_state, activation='tanh', alpha=0.001, l1_size=8, l2_size=4, l3_size=0,\n",
    "            l4_size=0, lr=0.001, dataset='Circular'):\n",
    "    print(activation, alpha, l1_size, l2_size, l3_size, l4_size, lr, dataset)"
   ]
  },
  {
   "cell_type": "code",
   "execution_count": null,
   "id": "31179cc5",
   "metadata": {},
   "outputs": [],
   "source": [
    "def init_logreg(a, c, d):\n",
    "    return a, c, d\n",
    "\n",
    "def animate_logreg(a, c, d):\n",
    "    print(a, c, d)\n",
    "\n",
    "def on_button_clicked_2(b, a, c, d):\n",
    "    with output:\n",
    "        e, f, g = init_logreg(a, c, d)\n",
    "        animate_logreg(e, f, g)"
   ]
  },
  {
   "cell_type": "markdown",
   "id": "83c9291c",
   "metadata": {},
   "source": [
    "# Declaring Widgets"
   ]
  },
  {
   "cell_type": "code",
   "execution_count": null,
   "id": "b83a655c",
   "metadata": {},
   "outputs": [],
   "source": [
    "class LoadedButton(widgets.Button):\n",
    "    \"\"\"A custom button that can holds a value as a attribute.\"\"\"\n",
    "\n",
    "    def __init__(self, value=None, *args, **kwargs):\n",
    "        super(LoadedButton, self).__init__(*args, **kwargs)\n",
    "        # Create the value attribute.\n",
    "        self.add_traits(value=traitlets.Any(value))"
   ]
  },
  {
   "cell_type": "code",
   "execution_count": null,
   "id": "84ac30d9",
   "metadata": {},
   "outputs": [],
   "source": [
    "algorithms = ['Linear Regression', 'Logistic Regression', 'Neural Network', 'Linear SVM', 'Non-linear SVM', 'KMeans',\n",
    "             'Naive Bayes', 'Decision Tree', 'PCA', 'None']\n",
    "\n",
    "output = widgets.Output()\n",
    "\n",
    "algo_dropdown = widgets.Dropdown(\n",
    "            options=algorithms,\n",
    "            value='None',\n",
    "            description='Algorithm:',\n",
    "            disabled=False,\n",
    "        )\n",
    "\n",
    "activation_dropdown = widgets.Dropdown(\n",
    "            options=['logistic', 'tanh', 'relu'],\n",
    "            value='tanh',\n",
    "            description='Activation:',\n",
    "            disabled=False,\n",
    "        )\n",
    "\n",
    "lr_slider = widgets.FloatSlider(\n",
    "            value=0.001,\n",
    "            min=0.0001,\n",
    "            max=0.1,\n",
    "            step=0.0001,\n",
    "            description='alpha:',\n",
    "            disabled=False,\n",
    "            continuous_update=False,\n",
    "            orientation='horizontal',\n",
    "            readout=True,\n",
    "            readout_format='.4f',\n",
    "        )\n",
    "\n",
    "reg_strength_slider = widgets.FloatSlider(\n",
    "            value=0.001,\n",
    "            min=0.0001,\n",
    "            max=0.1,\n",
    "            step=0.0001,\n",
    "            description='lambda:',\n",
    "            disabled=False,\n",
    "            continuous_update=False,\n",
    "            orientation='horizontal',\n",
    "            readout=True,\n",
    "            readout_format='.4f',\n",
    "        )\n",
    "\n",
    "regtype_dropdown = widgets.Dropdown(\n",
    "            options=['L1', 'L2', 'None'],\n",
    "            value='L2',\n",
    "            description='Reg:',\n",
    "            disabled=False,\n",
    "        )\n",
    "\n",
    "l1_dropdown = widgets.Dropdown(\n",
    "            options=[1, 2, 4, 8],\n",
    "            value=8,\n",
    "            description='L1 Size:',\n",
    "            disabled=False,\n",
    "        )\n",
    "\n",
    "l2_dropdown = widgets.Dropdown(\n",
    "            options=[0, 1, 2, 4, 8],\n",
    "            value=4,\n",
    "            description='L2 Size:',\n",
    "            disabled=False,\n",
    "        )\n",
    "\n",
    "l3_dropdown = widgets.Dropdown(\n",
    "            options=[0, 1, 2, 4, 8],\n",
    "            value=0,\n",
    "            description='L3 Size:',\n",
    "            disabled=False,\n",
    "        )\n",
    "\n",
    "l4_dropdown = widgets.Dropdown(\n",
    "            options=[0, 1, 2, 4, 8],\n",
    "            value=0,\n",
    "            description='L4 Size:',\n",
    "            disabled=False,\n",
    "        )\n",
    "\n",
    "dataset_nn_dropdown = widgets.Dropdown(\n",
    "            options=['Circular', 'XOR'],\n",
    "            value='Circular',\n",
    "            description='Dataset',\n",
    "            disabled=False,\n",
    "        )\n",
    "\n",
    "play_nn_btn = LoadedButton(icon=\"play\")\n",
    "play_lr_btn = LoadedButton(icon=\"play\")"
   ]
  },
  {
   "cell_type": "markdown",
   "id": "fa4c808b",
   "metadata": {},
   "source": [
    "# Main "
   ]
  },
  {
   "cell_type": "code",
   "execution_count": null,
   "id": "2e175c6a",
   "metadata": {},
   "outputs": [],
   "source": [
    "%matplotlib notebook\n",
    "%matplotlib notebook\n",
    "def run(algo='None'):\n",
    "    if algo == \"Logistic Regression\":\n",
    "        display(lr_slider, regtype_dropdown, reg_strength_slider, play_lr_btn, output)\n",
    "        play_lr_btn.on_click(functools.partial(on_button_clicked_2, a=lr_slider.value, c=regtype_dropdown.value,\n",
    "                                          d=reg_strength_slider.value))\n",
    "        \n",
    "    elif algo == \"Neural Network\":\n",
    "        play_nn_btn.disabled = False\n",
    "        hb1 = widgets.HBox([lr_slider, reg_strength_slider])\n",
    "        hb2 = widgets.HBox([l1_dropdown, l2_dropdown, l3_dropdown, l4_dropdown])\n",
    "        vb = widgets.VBox([activation_dropdown, hb1, hb2, dataset_nn_dropdown, play_nn_btn, output])\n",
    "        display(vb)\n",
    "        play_nn_btn.on_click(functools.partial(play_nn, activation=activation_dropdown.value,\n",
    "                                            alpha=reg_strength_slider.value,\n",
    "                                            l1_size=l1_dropdown.value,\n",
    "                                            l2_size=l2_dropdown.value, l3_size=l3_dropdown.value,\n",
    "                                            l4_size=l4_dropdown.value, lr=lr_slider.value,\n",
    "                                            dataset=dataset_nn_dropdown.value))\n",
    "        return play_nn_btn.value"
   ]
  },
  {
   "cell_type": "code",
   "execution_count": null,
   "id": "486bd07f",
   "metadata": {},
   "outputs": [],
   "source": [
    "widgets.interact(run, algo=algo_dropdown);"
   ]
  },
  {
   "cell_type": "code",
   "execution_count": null,
   "id": "ca653dbd",
   "metadata": {},
   "outputs": [],
   "source": []
  }
 ],
 "metadata": {
  "kernelspec": {
   "display_name": "Python 3 (ipykernel)",
   "language": "python",
   "name": "python3"
  },
  "language_info": {
   "codemirror_mode": {
    "name": "ipython",
    "version": 3
   },
   "file_extension": ".py",
   "mimetype": "text/x-python",
   "name": "python",
   "nbconvert_exporter": "python",
   "pygments_lexer": "ipython3",
   "version": "3.9.7"
  }
 },
 "nbformat": 4,
 "nbformat_minor": 5
}
